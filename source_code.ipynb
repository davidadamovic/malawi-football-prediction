{
 "cells": [
  {
   "cell_type": "code",
   "execution_count": 1,
   "id": "5abaaf74",
   "metadata": {
    "_cell_guid": "b1076dfc-b9ad-4769-8c92-a6c4dae69d19",
    "_uuid": "8f2839f25d086af736a60e9eeb907d3b93b6e0e5",
    "execution": {
     "iopub.execute_input": "2025-05-09T15:05:59.596638Z",
     "iopub.status.busy": "2025-05-09T15:05:59.596208Z",
     "iopub.status.idle": "2025-05-09T15:06:02.554813Z",
     "shell.execute_reply": "2025-05-09T15:06:02.553441Z"
    },
    "papermill": {
     "duration": 2.968198,
     "end_time": "2025-05-09T15:06:02.556877",
     "exception": false,
     "start_time": "2025-05-09T15:05:59.588679",
     "status": "completed"
    },
    "tags": []
   },
   "outputs": [
    {
     "name": "stdout",
     "output_type": "stream",
     "text": [
      "/kaggle/input/malawi-datasets/Dataset_Malawi_National_Football_Team_Matches.csv\n"
     ]
    }
   ],
   "source": [
    "# This Python 3 environment comes with many helpful analytics libraries installed\n",
    "# It is defined by the kaggle/python Docker image: https://github.com/kaggle/docker-python\n",
    "# For example, here's several helpful packages to load\n",
    "\n",
    "import numpy as np # linear algebra\n",
    "import pandas as pd # data processing, CSV file I/O (e.g. pd.read_csv)\n",
    "\n",
    "# Input data files are available in the read-only \"../input/\" directory\n",
    "# For example, running this (by clicking run or pressing Shift+Enter) will list all files under the input directory\n",
    "\n",
    "import os\n",
    "for dirname, _, filenames in os.walk('/kaggle/input'):\n",
    "    for filename in filenames:\n",
    "        print(os.path.join(dirname, filename))\n",
    "\n",
    "# You can write up to 20GB to the current directory (/kaggle/working/) that gets preserved as output when you create a version using \"Save & Run All\" \n",
    "# You can also write temporary files to /kaggle/temp/, but they won't be saved outside of the current session"
   ]
  },
  {
   "cell_type": "markdown",
   "id": "10a89bab",
   "metadata": {
    "papermill": {
     "duration": 0.004936,
     "end_time": "2025-05-09T15:06:02.567553",
     "exception": false,
     "start_time": "2025-05-09T15:06:02.562617",
     "status": "completed"
    },
    "tags": []
   },
   "source": [
    " # Loading the data "
   ]
  },
  {
   "cell_type": "code",
   "execution_count": 2,
   "id": "4732a785",
   "metadata": {
    "execution": {
     "iopub.execute_input": "2025-05-09T15:06:02.580588Z",
     "iopub.status.busy": "2025-05-09T15:06:02.580092Z",
     "iopub.status.idle": "2025-05-09T15:06:02.627715Z",
     "shell.execute_reply": "2025-05-09T15:06:02.625719Z"
    },
    "papermill": {
     "duration": 0.05658,
     "end_time": "2025-05-09T15:06:02.629925",
     "exception": false,
     "start_time": "2025-05-09T15:06:02.573345",
     "status": "completed"
    },
    "tags": []
   },
   "outputs": [],
   "source": [
    "data = pd.read_csv(\"/kaggle/input/malawi-datasets/Dataset_Malawi_National_Football_Team_Matches.csv\")"
   ]
  },
  {
   "cell_type": "markdown",
   "id": "9325fb80",
   "metadata": {
    "papermill": {
     "duration": 0.004762,
     "end_time": "2025-05-09T15:06:02.640851",
     "exception": false,
     "start_time": "2025-05-09T15:06:02.636089",
     "status": "completed"
    },
    "tags": []
   },
   "source": [
    "# Cleaning and Preprocessing "
   ]
  },
  {
   "cell_type": "code",
   "execution_count": 3,
   "id": "c6ee1939",
   "metadata": {
    "execution": {
     "iopub.execute_input": "2025-05-09T15:06:02.653421Z",
     "iopub.status.busy": "2025-05-09T15:06:02.653063Z",
     "iopub.status.idle": "2025-05-09T15:06:02.701066Z",
     "shell.execute_reply": "2025-05-09T15:06:02.699320Z"
    },
    "papermill": {
     "duration": 0.056398,
     "end_time": "2025-05-09T15:06:02.703100",
     "exception": false,
     "start_time": "2025-05-09T15:06:02.646702",
     "status": "completed"
    },
    "tags": []
   },
   "outputs": [
    {
     "name": "stderr",
     "output_type": "stream",
     "text": [
      "/usr/local/lib/python3.11/dist-packages/pandas/io/formats/format.py:1458: RuntimeWarning: invalid value encountered in greater\n",
      "  has_large_values = (abs_vals > 1e6).any()\n",
      "/usr/local/lib/python3.11/dist-packages/pandas/io/formats/format.py:1459: RuntimeWarning: invalid value encountered in less\n",
      "  has_small_values = ((abs_vals < 10 ** (-self.digits)) & (abs_vals > 0)).any()\n",
      "/usr/local/lib/python3.11/dist-packages/pandas/io/formats/format.py:1459: RuntimeWarning: invalid value encountered in greater\n",
      "  has_small_values = ((abs_vals < 10 ** (-self.digits)) & (abs_vals > 0)).any()\n"
     ]
    },
    {
     "data": {
      "text/html": [
       "<div>\n",
       "<style scoped>\n",
       "    .dataframe tbody tr th:only-of-type {\n",
       "        vertical-align: middle;\n",
       "    }\n",
       "\n",
       "    .dataframe tbody tr th {\n",
       "        vertical-align: top;\n",
       "    }\n",
       "\n",
       "    .dataframe thead th {\n",
       "        text-align: right;\n",
       "    }\n",
       "</style>\n",
       "<table border=\"1\" class=\"dataframe\">\n",
       "  <thead>\n",
       "    <tr style=\"text-align: right;\">\n",
       "      <th></th>\n",
       "      <th>Date</th>\n",
       "      <th>Opponent</th>\n",
       "      <th>Team Score</th>\n",
       "      <th>Opponent Score</th>\n",
       "      <th>Result</th>\n",
       "      <th>Venue</th>\n",
       "      <th>Competition</th>\n",
       "    </tr>\n",
       "  </thead>\n",
       "  <tbody>\n",
       "    <tr>\n",
       "      <th>0</th>\n",
       "      <td>~1957</td>\n",
       "      <td>Northern Rhodesia</td>\n",
       "      <td>0.0</td>\n",
       "      <td>5.0</td>\n",
       "      <td>Loss</td>\n",
       "      <td>Unknown</td>\n",
       "      <td>Friendly (First International)</td>\n",
       "    </tr>\n",
       "    <tr>\n",
       "      <th>1</th>\n",
       "      <td>~1962</td>\n",
       "      <td>Ghana</td>\n",
       "      <td>0.0</td>\n",
       "      <td>12.0</td>\n",
       "      <td>Loss</td>\n",
       "      <td>Unknown</td>\n",
       "      <td>Friendly</td>\n",
       "    </tr>\n",
       "    <tr>\n",
       "      <th>2</th>\n",
       "      <td>~1968</td>\n",
       "      <td>Botswana</td>\n",
       "      <td>8.0</td>\n",
       "      <td>1.0</td>\n",
       "      <td>Win</td>\n",
       "      <td>Unknown</td>\n",
       "      <td>Friendly</td>\n",
       "    </tr>\n",
       "    <tr>\n",
       "      <th>3</th>\n",
       "      <td>02/06/1996</td>\n",
       "      <td>South Africa</td>\n",
       "      <td>0.0</td>\n",
       "      <td>3.0</td>\n",
       "      <td>Loss</td>\n",
       "      <td>Away</td>\n",
       "      <td>World Cup Qualifier</td>\n",
       "    </tr>\n",
       "    <tr>\n",
       "      <th>4</th>\n",
       "      <td>07/07/1996</td>\n",
       "      <td>Zambia</td>\n",
       "      <td>1.0</td>\n",
       "      <td>1.0</td>\n",
       "      <td>Draw</td>\n",
       "      <td>Home</td>\n",
       "      <td>Friendly</td>\n",
       "    </tr>\n",
       "    <tr>\n",
       "      <th>...</th>\n",
       "      <td>...</td>\n",
       "      <td>...</td>\n",
       "      <td>...</td>\n",
       "      <td>...</td>\n",
       "      <td>...</td>\n",
       "      <td>...</td>\n",
       "      <td>...</td>\n",
       "    </tr>\n",
       "    <tr>\n",
       "      <th>68</th>\n",
       "      <td>14/11/2024</td>\n",
       "      <td>Burundi</td>\n",
       "      <td>0.0</td>\n",
       "      <td>0.0</td>\n",
       "      <td>Draw</td>\n",
       "      <td>Home</td>\n",
       "      <td>AFCON 2025 Qualifier</td>\n",
       "    </tr>\n",
       "    <tr>\n",
       "      <th>69</th>\n",
       "      <td>18/11/2024</td>\n",
       "      <td>Burkina Faso</td>\n",
       "      <td>0.0</td>\n",
       "      <td>1.0</td>\n",
       "      <td>Loss</td>\n",
       "      <td>Away</td>\n",
       "      <td>AFCON 2025 Qualifier</td>\n",
       "    </tr>\n",
       "    <tr>\n",
       "      <th>70</th>\n",
       "      <td>02/03/2025</td>\n",
       "      <td>Comoros</td>\n",
       "      <td>2.0</td>\n",
       "      <td>0.0</td>\n",
       "      <td>Win</td>\n",
       "      <td>Away</td>\n",
       "      <td>Friendly</td>\n",
       "    </tr>\n",
       "    <tr>\n",
       "      <th>71</th>\n",
       "      <td>20/03/2025</td>\n",
       "      <td>Namibia</td>\n",
       "      <td>0.0</td>\n",
       "      <td>1.0</td>\n",
       "      <td>Loss</td>\n",
       "      <td>Away</td>\n",
       "      <td>World Cup Qualifier</td>\n",
       "    </tr>\n",
       "    <tr>\n",
       "      <th>72</th>\n",
       "      <td>24/03/2025</td>\n",
       "      <td>Tunisia</td>\n",
       "      <td>NaN</td>\n",
       "      <td>NaN</td>\n",
       "      <td>TBD</td>\n",
       "      <td>Away</td>\n",
       "      <td>World Cup Qualifier</td>\n",
       "    </tr>\n",
       "  </tbody>\n",
       "</table>\n",
       "<p>73 rows × 7 columns</p>\n",
       "</div>"
      ],
      "text/plain": [
       "          Date           Opponent  Team Score  Opponent Score Result    Venue  \\\n",
       "0        ~1957  Northern Rhodesia         0.0             5.0   Loss  Unknown   \n",
       "1        ~1962              Ghana         0.0            12.0   Loss  Unknown   \n",
       "2        ~1968           Botswana         8.0             1.0    Win  Unknown   \n",
       "3   02/06/1996       South Africa         0.0             3.0   Loss     Away   \n",
       "4   07/07/1996             Zambia         1.0             1.0   Draw     Home   \n",
       "..         ...                ...         ...             ...    ...      ...   \n",
       "68  14/11/2024            Burundi         0.0             0.0   Draw     Home   \n",
       "69  18/11/2024       Burkina Faso         0.0             1.0   Loss     Away   \n",
       "70  02/03/2025            Comoros         2.0             0.0    Win     Away   \n",
       "71  20/03/2025            Namibia         0.0             1.0   Loss     Away   \n",
       "72  24/03/2025            Tunisia         NaN             NaN    TBD     Away   \n",
       "\n",
       "                       Competition  \n",
       "0   Friendly (First International)  \n",
       "1                         Friendly  \n",
       "2                         Friendly  \n",
       "3              World Cup Qualifier  \n",
       "4                         Friendly  \n",
       "..                             ...  \n",
       "68            AFCON 2025 Qualifier  \n",
       "69            AFCON 2025 Qualifier  \n",
       "70                        Friendly  \n",
       "71             World Cup Qualifier  \n",
       "72             World Cup Qualifier  \n",
       "\n",
       "[73 rows x 7 columns]"
      ]
     },
     "execution_count": 3,
     "metadata": {},
     "output_type": "execute_result"
    }
   ],
   "source": [
    "# transform to Data Frame\n",
    "data = pd.DataFrame(data)\n",
    "data"
   ]
  },
  {
   "cell_type": "markdown",
   "id": "40d4c1cf",
   "metadata": {
    "papermill": {
     "duration": 0.006074,
     "end_time": "2025-05-09T15:06:02.714991",
     "exception": false,
     "start_time": "2025-05-09T15:06:02.708917",
     "status": "completed"
    },
    "tags": []
   },
   "source": [
    "### Inspecting the data quickly"
   ]
  },
  {
   "cell_type": "code",
   "execution_count": 4,
   "id": "fe60946e",
   "metadata": {
    "execution": {
     "iopub.execute_input": "2025-05-09T15:06:02.728206Z",
     "iopub.status.busy": "2025-05-09T15:06:02.727852Z",
     "iopub.status.idle": "2025-05-09T15:06:02.750216Z",
     "shell.execute_reply": "2025-05-09T15:06:02.748579Z"
    },
    "papermill": {
     "duration": 0.030802,
     "end_time": "2025-05-09T15:06:02.752100",
     "exception": false,
     "start_time": "2025-05-09T15:06:02.721298",
     "status": "completed"
    },
    "tags": []
   },
   "outputs": [
    {
     "name": "stdout",
     "output_type": "stream",
     "text": [
      "Team Score: 6\n",
      "Opponent Score: 7\n",
      "Opponent: 36\n",
      "Competition: 12\n",
      "Venue: 3\n",
      "Result: 4\n"
     ]
    }
   ],
   "source": [
    "columns = [\"Team Score\", \"Opponent Score\", \"Opponent\", \"Competition\", \"Venue\", \"Result\"]\n",
    "\n",
    "for col in columns:\n",
    "    print(f\"{col}: {len(data[col].value_counts())}\")"
   ]
  },
  {
   "cell_type": "code",
   "execution_count": 5,
   "id": "8c5d319c",
   "metadata": {
    "execution": {
     "iopub.execute_input": "2025-05-09T15:06:02.766064Z",
     "iopub.status.busy": "2025-05-09T15:06:02.764718Z",
     "iopub.status.idle": "2025-05-09T15:06:02.787849Z",
     "shell.execute_reply": "2025-05-09T15:06:02.786500Z"
    },
    "papermill": {
     "duration": 0.032336,
     "end_time": "2025-05-09T15:06:02.790111",
     "exception": false,
     "start_time": "2025-05-09T15:06:02.757775",
     "status": "completed"
    },
    "tags": []
   },
   "outputs": [
    {
     "name": "stdout",
     "output_type": "stream",
     "text": [
      "Data Frame before changing the dates 0          ~1957\n",
      "1          ~1962\n",
      "2          ~1968\n",
      "3     02/06/1996\n",
      "4     07/07/1996\n",
      "         ...    \n",
      "68    14/11/2024\n",
      "69    18/11/2024\n",
      "70    02/03/2025\n",
      "71    20/03/2025\n",
      "72    24/03/2025\n",
      "Name: Date, Length: 73, dtype: object\n",
      "\n",
      "Data Frame after changing the dates 0    1957-01-01\n",
      "1    1962-01-01\n",
      "2    1968-01-01\n",
      "3    1996-06-02\n",
      "4    1996-07-07\n",
      "        ...    \n",
      "68   2024-11-14\n",
      "69   2024-11-18\n",
      "70   2025-03-02\n",
      "71   2025-03-20\n",
      "72   2025-03-24\n",
      "Name: Date, Length: 73, dtype: datetime64[ns]\n"
     ]
    }
   ],
   "source": [
    "# Preprocessing the Date column\n",
    "\n",
    "print(\"Data Frame before changing the dates\" ,data[\"Date\"])\n",
    "print(\"\")\n",
    "\n",
    "# Convert the 'Date' column to datetime format\n",
    "data[\"Date\"] = pd.to_datetime(data[\"Date\"], errors='coerce', format = \"%d/%m/%Y\")\n",
    "\n",
    "\n",
    "# Fill upp the missing values with correct year but random days and months \n",
    "data.loc[0, \"Date\"] = pd.to_datetime(\"01/01/1957\", format=\"%d/%m/%Y\")\n",
    "data.loc[1, \"Date\"] = pd.to_datetime(\"01/01/1962\", format=\"%d/%m/%Y\")\n",
    "data.loc[2, \"Date\"] = pd.to_datetime(\"01/01/1968\", format=\"%d/%m/%Y\")\n",
    "\n",
    "print(\"Data Frame after changing the dates\" ,data[\"Date\"])"
   ]
  },
  {
   "cell_type": "markdown",
   "id": "3af86b9a",
   "metadata": {
    "papermill": {
     "duration": 0.005516,
     "end_time": "2025-05-09T15:06:02.801466",
     "exception": false,
     "start_time": "2025-05-09T15:06:02.795950",
     "status": "completed"
    },
    "tags": []
   },
   "source": [
    "### Removing the **latest match row** from the data set to try to predict the outcome later when we have our model"
   ]
  },
  {
   "cell_type": "code",
   "execution_count": 6,
   "id": "17d2bff8",
   "metadata": {
    "execution": {
     "iopub.execute_input": "2025-05-09T15:06:02.813808Z",
     "iopub.status.busy": "2025-05-09T15:06:02.813505Z",
     "iopub.status.idle": "2025-05-09T15:06:02.833795Z",
     "shell.execute_reply": "2025-05-09T15:06:02.832546Z"
    },
    "papermill": {
     "duration": 0.028525,
     "end_time": "2025-05-09T15:06:02.835544",
     "exception": false,
     "start_time": "2025-05-09T15:06:02.807019",
     "status": "completed"
    },
    "tags": []
   },
   "outputs": [
    {
     "name": "stdout",
     "output_type": "stream",
     "text": [
      "Date              2025-03-24 00:00:00\n",
      "Opponent                      Tunisia\n",
      "Team Score                        NaN\n",
      "Opponent Score                    NaN\n",
      "Result                            TBD\n",
      "Venue                            Away\n",
      "Competition       World Cup Qualifier\n",
      "Name: 72, dtype: object\n",
      "\n",
      "         Date           Opponent  Team Score  Opponent Score Result    Venue  \\\n",
      "0  1957-01-01  Northern Rhodesia         0.0             5.0   Loss  Unknown   \n",
      "1  1962-01-01              Ghana         0.0            12.0   Loss  Unknown   \n",
      "2  1968-01-01           Botswana         8.0             1.0    Win  Unknown   \n",
      "3  1996-06-02       South Africa         0.0             3.0   Loss     Away   \n",
      "4  1996-07-07             Zambia         1.0             1.0   Draw     Home   \n",
      "..        ...                ...         ...             ...    ...      ...   \n",
      "67 2024-10-11            Senegal         0.0             4.0   Loss     Away   \n",
      "68 2024-11-14            Burundi         0.0             0.0   Draw     Home   \n",
      "69 2024-11-18       Burkina Faso         0.0             1.0   Loss     Away   \n",
      "70 2025-03-02            Comoros         2.0             0.0    Win     Away   \n",
      "71 2025-03-20            Namibia         0.0             1.0   Loss     Away   \n",
      "\n",
      "                       Competition  \n",
      "0   Friendly (First International)  \n",
      "1                         Friendly  \n",
      "2                         Friendly  \n",
      "3              World Cup Qualifier  \n",
      "4                         Friendly  \n",
      "..                             ...  \n",
      "67            AFCON 2025 Qualifier  \n",
      "68            AFCON 2025 Qualifier  \n",
      "69            AFCON 2025 Qualifier  \n",
      "70                        Friendly  \n",
      "71             World Cup Qualifier  \n",
      "\n",
      "[72 rows x 7 columns]\n"
     ]
    }
   ],
   "source": [
    "latest_match = data.loc[72, :]\n",
    "print(latest_match)\n",
    "print(\"\")\n",
    "data = data.drop(72)\n",
    "print(data)"
   ]
  },
  {
   "cell_type": "markdown",
   "id": "6d73dc55",
   "metadata": {
    "papermill": {
     "duration": 0.006569,
     "end_time": "2025-05-09T15:06:02.848286",
     "exception": false,
     "start_time": "2025-05-09T15:06:02.841717",
     "status": "completed"
    },
    "tags": []
   },
   "source": [
    "# Make Predictions"
   ]
  },
  {
   "cell_type": "markdown",
   "id": "20d0414a",
   "metadata": {
    "papermill": {
     "duration": 0.006012,
     "end_time": "2025-05-09T15:06:02.861126",
     "exception": false,
     "start_time": "2025-05-09T15:06:02.855114",
     "status": "completed"
    },
    "tags": []
   },
   "source": [
    "### Get features and make a target variable then split the data in training and test set"
   ]
  },
  {
   "cell_type": "code",
   "execution_count": 7,
   "id": "e65a0464",
   "metadata": {
    "execution": {
     "iopub.execute_input": "2025-05-09T15:06:02.874460Z",
     "iopub.status.busy": "2025-05-09T15:06:02.874140Z",
     "iopub.status.idle": "2025-05-09T15:06:06.147289Z",
     "shell.execute_reply": "2025-05-09T15:06:06.146187Z"
    },
    "papermill": {
     "duration": 3.282385,
     "end_time": "2025-05-09T15:06:06.149214",
     "exception": false,
     "start_time": "2025-05-09T15:06:02.866829",
     "status": "completed"
    },
    "tags": []
   },
   "outputs": [],
   "source": [
    "# For the predictor, we will attempt to predict whether Malawi wins a match.\n",
    "\n",
    "# Rows in Result column with win value (case and space insensitive) become 1, everythig else 0\n",
    "data[\"Win\"] = data[\"Result\"].apply(lambda x : 1 if x.strip().lower() == \"win\" else 0)\n",
    "\n",
    "# chose features\n",
    "# use one hot encoding \n",
    "# pd.get_dummies() creates binary columns for each category in your specified features list.\n",
    "# drop_first=True avoids dummy variable trap by dropping the first category in each column. \n",
    "    # Helpful when you're using models that assume independent variables (e.g., logistic regression).\n",
    "features = [\"Opponent\", \"Venue\", \"Competition\"]\n",
    "data_encoded = pd.get_dummies(data[features], drop_first=True)\n",
    "\n",
    "target = data[\"Win\"]\n",
    "\n",
    "# Splitting data into training and testing sets\n",
    "from sklearn.model_selection import train_test_split\n",
    "X_train, X_test, y_train, y_test = train_test_split(data_encoded, target, test_size=0.2, random_state=43)\n",
    "\n"
   ]
  },
  {
   "cell_type": "markdown",
   "id": "d3bb120f",
   "metadata": {
    "papermill": {
     "duration": 0.005629,
     "end_time": "2025-05-09T15:06:06.161095",
     "exception": false,
     "start_time": "2025-05-09T15:06:06.155466",
     "status": "completed"
    },
    "tags": []
   },
   "source": [
    "## RandomForestClassifier"
   ]
  },
  {
   "cell_type": "code",
   "execution_count": 8,
   "id": "54fc3fbd",
   "metadata": {
    "execution": {
     "iopub.execute_input": "2025-05-09T15:06:06.176076Z",
     "iopub.status.busy": "2025-05-09T15:06:06.174855Z",
     "iopub.status.idle": "2025-05-09T15:06:07.185361Z",
     "shell.execute_reply": "2025-05-09T15:06:07.183574Z"
    },
    "papermill": {
     "duration": 1.019956,
     "end_time": "2025-05-09T15:06:07.187190",
     "exception": false,
     "start_time": "2025-05-09T15:06:06.167234",
     "status": "completed"
    },
    "tags": []
   },
   "outputs": [
    {
     "name": "stdout",
     "output_type": "stream",
     "text": [
      "Accuracy: 0.9333333333333333\n"
     ]
    }
   ],
   "source": [
    "from sklearn.ensemble import RandomForestClassifier\n",
    "from sklearn.metrics import accuracy_score\n",
    "\n",
    "# Iniciate, fit and predict\n",
    "model_rf = RandomForestClassifier()\n",
    "model_rf.fit(X_train, y_train)\n",
    "y_pred_rf = model_rf.predict(X_test)\n",
    "\n",
    "# Check models accuracy on predicting test data\n",
    "print(\"Accuracy:\", accuracy_score(y_test, y_pred_rf))"
   ]
  },
  {
   "cell_type": "markdown",
   "id": "933c5a99",
   "metadata": {
    "papermill": {
     "duration": 0.005538,
     "end_time": "2025-05-09T15:06:07.199032",
     "exception": false,
     "start_time": "2025-05-09T15:06:07.193494",
     "status": "completed"
    },
    "tags": []
   },
   "source": [
    "### Evaluating the model with classification metrics to get a better insight on models performance "
   ]
  },
  {
   "cell_type": "code",
   "execution_count": 9,
   "id": "9e1c2432",
   "metadata": {
    "execution": {
     "iopub.execute_input": "2025-05-09T15:06:07.213003Z",
     "iopub.status.busy": "2025-05-09T15:06:07.212618Z",
     "iopub.status.idle": "2025-05-09T15:06:07.231800Z",
     "shell.execute_reply": "2025-05-09T15:06:07.230719Z"
    },
    "papermill": {
     "duration": 0.027971,
     "end_time": "2025-05-09T15:06:07.233463",
     "exception": false,
     "start_time": "2025-05-09T15:06:07.205492",
     "status": "completed"
    },
    "tags": []
   },
   "outputs": [
    {
     "name": "stdout",
     "output_type": "stream",
     "text": [
      "              precision    recall  f1-score   support\n",
      "\n",
      "           0       0.93      1.00      0.96        13\n",
      "           1       1.00      0.50      0.67         2\n",
      "\n",
      "    accuracy                           0.93        15\n",
      "   macro avg       0.96      0.75      0.81        15\n",
      "weighted avg       0.94      0.93      0.92        15\n",
      "\n",
      "[[13  0]\n",
      " [ 1  1]]\n"
     ]
    }
   ],
   "source": [
    "from sklearn.metrics import classification_report, confusion_matrix\n",
    "\n",
    "print(classification_report(y_test, y_pred_rf))\n",
    "print(confusion_matrix(y_test, y_pred_rf))"
   ]
  },
  {
   "cell_type": "markdown",
   "id": "1842a029",
   "metadata": {
    "papermill": {
     "duration": 0.005691,
     "end_time": "2025-05-09T15:06:07.245108",
     "exception": false,
     "start_time": "2025-05-09T15:06:07.239417",
     "status": "completed"
    },
    "tags": []
   },
   "source": [
    "### Visualizing Evaluations"
   ]
  },
  {
   "cell_type": "code",
   "execution_count": 10,
   "id": "e07083f1",
   "metadata": {
    "execution": {
     "iopub.execute_input": "2025-05-09T15:06:07.259119Z",
     "iopub.status.busy": "2025-05-09T15:06:07.258641Z",
     "iopub.status.idle": "2025-05-09T15:06:08.968024Z",
     "shell.execute_reply": "2025-05-09T15:06:08.966650Z"
    },
    "papermill": {
     "duration": 1.719066,
     "end_time": "2025-05-09T15:06:08.969977",
     "exception": false,
     "start_time": "2025-05-09T15:06:07.250911",
     "status": "completed"
    },
    "tags": []
   },
   "outputs": [
    {
     "data": {
      "image/png": "[encoded data removed]",
      "text/plain": [
       "<Figure size 600x600 with 1 Axes>"
      ]
     },
     "metadata": {},
     "output_type": "display_data"
    },
    {
     "data": {
      "image/png": "[encoded data removed]",
      "text/plain": [
       "<Figure size 800x500 with 1 Axes>"
      ]
     },
     "metadata": {},
     "output_type": "display_data"
    },
    {
     "data": {
      "image/png": "[encoded data removed]",
      "text/plain": [
       "<Figure size 600x500 with 1 Axes>"
      ]
     },
     "metadata": {},
     "output_type": "display_data"
    }
   ],
   "source": [
    "import matplotlib.pyplot as plt\n",
    "import seaborn as sns\n",
    "from sklearn.metrics import confusion_matrix, ConfusionMatrixDisplay\n",
    "from sklearn.metrics import roc_curve, auc, RocCurveDisplay\n",
    "from sklearn.preprocessing import label_binarize\n",
    "import matplotlib.pyplot as plt\n",
    "import numpy as np\n",
    "\n",
    "# Confusion matrix using seaborn\n",
    "cm = confusion_matrix(y_test, y_pred_rf)\n",
    "\n",
    "plt.figure(figsize=(6, 6))\n",
    "sns.heatmap(cm, annot=True, fmt='d', cmap='Blues', cbar=False,\n",
    "            xticklabels=['0', '1'],\n",
    "            yticklabels=['0', '1'])\n",
    "plt.title(\"Confusion Matrix\", fontsize=16)\n",
    "plt.xlabel(\"Predicted\", fontsize=13)\n",
    "plt.ylabel(\"Actual\", fontsize=13)\n",
    "plt.tight_layout()\n",
    "plt.show()\n",
    "\n",
    "\n",
    "## Classification metrics ##\n",
    "report = classification_report(y_test, y_pred_rf, output_dict=True)\n",
    "metrics_df = pd.DataFrame(report).transpose()\n",
    "\n",
    "# Plot precision, recall, and f1-score for each class\n",
    "metrics_df = metrics_df.loc[['0', '1'], ['precision', 'recall', 'f1-score']]\n",
    "\n",
    "metrics_df.plot(kind='bar', figsize=(8, 5), colormap='Set1')\n",
    "plt.title(\"Classification Metrics by Class\")\n",
    "plt.ylabel(\"Score\")\n",
    "plt.ylim(0, 1)\n",
    "plt.xticks(rotation=0)\n",
    "plt.legend(loc='lower right')\n",
    "plt.grid(axis='y', linestyle='--', alpha=0.7)\n",
    "plt.tight_layout()\n",
    "plt.show()\n",
    "\n",
    "\n",
    "# Make sure y_test and y_pred_rf are numpy arrays\n",
    "y_test_array = np.array(y_test)\n",
    "y_scores = model_rf.predict_proba(X_test)[:, 1]  # get probability estimates\n",
    "\n",
    "# ROC Curve for binary classification\n",
    "fpr, tpr, thresholds = roc_curve(y_test_array, y_scores)\n",
    "roc_auc = auc(fpr, tpr)\n",
    "\n",
    "# Plot ROC\n",
    "plt.figure(figsize=(6, 5))\n",
    "plt.plot(fpr, tpr, color='darkblue', lw=2, label=f\"ROC curve (AUC = {roc_auc:.2f})\")\n",
    "plt.plot([0, 1], [0, 1], color='gray', linestyle='--')\n",
    "plt.xlim([0.0, 1.0])\n",
    "plt.ylim([0.0, 1.05])\n",
    "plt.xlabel(\"False Positive Rate\")\n",
    "plt.ylabel(\"True Positive Rate\")\n",
    "plt.title(\"ROC\")\n",
    "plt.legend(loc=\"lower right\")\n",
    "plt.grid(True)\n",
    "plt.tight_layout()\n",
    "plt.show()"
   ]
  },
  {
   "cell_type": "markdown",
   "id": "15277d10",
   "metadata": {
    "papermill": {
     "duration": 0.00694,
     "end_time": "2025-05-09T15:06:08.984599",
     "exception": false,
     "start_time": "2025-05-09T15:06:08.977659",
     "status": "completed"
    },
    "tags": []
   },
   "source": [
    "# Let's predict the outcome of the latest match \n",
    "##### **The match have been played and the result was 0-1. Malawi lost against Tunisia. Let's see what the model says**"
   ]
  },
  {
   "cell_type": "code",
   "execution_count": 11,
   "id": "afdd6e1a",
   "metadata": {
    "execution": {
     "iopub.execute_input": "2025-05-09T15:06:09.000653Z",
     "iopub.status.busy": "2025-05-09T15:06:09.000197Z",
     "iopub.status.idle": "2025-05-09T15:06:09.018620Z",
     "shell.execute_reply": "2025-05-09T15:06:09.017283Z"
    },
    "papermill": {
     "duration": 0.028749,
     "end_time": "2025-05-09T15:06:09.020580",
     "exception": false,
     "start_time": "2025-05-09T15:06:08.991831",
     "status": "completed"
    },
    "tags": []
   },
   "outputs": [
    {
     "name": "stdout",
     "output_type": "stream",
     "text": [
      "<class 'pandas.core.series.Series'>\n",
      "Index: 7 entries, Date to Competition\n",
      "Series name: 72\n",
      "Non-Null Count  Dtype \n",
      "--------------  ----- \n",
      "5 non-null      object\n",
      "dtypes: object(1)\n",
      "memory usage: 412.0+ bytes\n",
      "None\n"
     ]
    }
   ],
   "source": [
    "# Check the format to understand how to proceed further\n",
    "print(latest_match.info())"
   ]
  },
  {
   "cell_type": "code",
   "execution_count": 12,
   "id": "ddbbcdf1",
   "metadata": {
    "execution": {
     "iopub.execute_input": "2025-05-09T15:06:09.037957Z",
     "iopub.status.busy": "2025-05-09T15:06:09.036932Z",
     "iopub.status.idle": "2025-05-09T15:06:09.042732Z",
     "shell.execute_reply": "2025-05-09T15:06:09.041590Z"
    },
    "papermill": {
     "duration": 0.016034,
     "end_time": "2025-05-09T15:06:09.044641",
     "exception": false,
     "start_time": "2025-05-09T15:06:09.028607",
     "status": "completed"
    },
    "tags": []
   },
   "outputs": [],
   "source": [
    "# Transpose to make features columns instead of index\n",
    "latest_match_df = latest_match.to_frame().T"
   ]
  },
  {
   "cell_type": "code",
   "execution_count": 13,
   "id": "ba9f4beb",
   "metadata": {
    "execution": {
     "iopub.execute_input": "2025-05-09T15:06:09.061353Z",
     "iopub.status.busy": "2025-05-09T15:06:09.061033Z",
     "iopub.status.idle": "2025-05-09T15:06:09.073311Z",
     "shell.execute_reply": "2025-05-09T15:06:09.072108Z"
    },
    "papermill": {
     "duration": 0.02256,
     "end_time": "2025-05-09T15:06:09.075104",
     "exception": false,
     "start_time": "2025-05-09T15:06:09.052544",
     "status": "completed"
    },
    "tags": []
   },
   "outputs": [
    {
     "data": {
      "text/html": [
       "<div>\n",
       "<style scoped>\n",
       "    .dataframe tbody tr th:only-of-type {\n",
       "        vertical-align: middle;\n",
       "    }\n",
       "\n",
       "    .dataframe tbody tr th {\n",
       "        vertical-align: top;\n",
       "    }\n",
       "\n",
       "    .dataframe thead th {\n",
       "        text-align: right;\n",
       "    }\n",
       "</style>\n",
       "<table border=\"1\" class=\"dataframe\">\n",
       "  <thead>\n",
       "    <tr style=\"text-align: right;\">\n",
       "      <th></th>\n",
       "      <th>Date</th>\n",
       "      <th>Opponent</th>\n",
       "      <th>Team Score</th>\n",
       "      <th>Opponent Score</th>\n",
       "      <th>Result</th>\n",
       "      <th>Venue</th>\n",
       "      <th>Competition</th>\n",
       "    </tr>\n",
       "  </thead>\n",
       "  <tbody>\n",
       "    <tr>\n",
       "      <th>72</th>\n",
       "      <td>2025-03-24 00:00:00</td>\n",
       "      <td>Tunisia</td>\n",
       "      <td>NaN</td>\n",
       "      <td>NaN</td>\n",
       "      <td>TBD</td>\n",
       "      <td>Away</td>\n",
       "      <td>World Cup Qualifier</td>\n",
       "    </tr>\n",
       "  </tbody>\n",
       "</table>\n",
       "</div>"
      ],
      "text/plain": [
       "                   Date Opponent Team Score Opponent Score Result Venue  \\\n",
       "72  2025-03-24 00:00:00  Tunisia        NaN            NaN    TBD  Away   \n",
       "\n",
       "            Competition  \n",
       "72  World Cup Qualifier  "
      ]
     },
     "execution_count": 13,
     "metadata": {},
     "output_type": "execute_result"
    }
   ],
   "source": [
    "latest_match_df"
   ]
  },
  {
   "cell_type": "code",
   "execution_count": 14,
   "id": "c3d3b2aa",
   "metadata": {
    "execution": {
     "iopub.execute_input": "2025-05-09T15:06:09.092056Z",
     "iopub.status.busy": "2025-05-09T15:06:09.091695Z",
     "iopub.status.idle": "2025-05-09T15:06:09.102529Z",
     "shell.execute_reply": "2025-05-09T15:06:09.101580Z"
    },
    "papermill": {
     "duration": 0.021491,
     "end_time": "2025-05-09T15:06:09.104316",
     "exception": false,
     "start_time": "2025-05-09T15:06:09.082825",
     "status": "completed"
    },
    "tags": []
   },
   "outputs": [],
   "source": [
    "# Encoding the same way we did while training out model\n",
    "# Result: You get new columns like Opponent_Tunisia, Venue_Away, Competition_World Cup Qualifier, etc., with True/False values.\n",
    "latest_match_features = [\"Opponent\", \"Venue\", \"Competition\"]\n",
    "match_enc = pd.get_dummies(latest_match_df[latest_match_features])\n",
    "\n",
    "# Convert True/False to 1/0\n",
    "# cast the encoded features to integers:\n",
    "match_enc = match_enc.astype(int) \n",
    "\n",
    "# Align encoded columns to match training datn\n",
    "# Reindex to match training columns, fill missing with 0\n",
    "match_enc = match_enc.reindex(columns=data_encoded.columns, fill_value=0)"
   ]
  },
  {
   "cell_type": "markdown",
   "id": "c716fb77",
   "metadata": {
    "papermill": {
     "duration": 0.007216,
     "end_time": "2025-05-09T15:06:09.119180",
     "exception": false,
     "start_time": "2025-05-09T15:06:09.111964",
     "status": "completed"
    },
    "tags": []
   },
   "source": [
    "##### If a column like Competition_AFCON Qualifier was in training but not in the current match it gets added with a value of 0.\n",
    "\n",
    "##### If the current match has a new category not seen during training (e.g., Opponent_SomeNewTeam), it gets dropped.\n",
    "\n",
    "##### This is critical for compatibility with the model, which was trained on data_encoded.columns"
   ]
  },
  {
   "cell_type": "code",
   "execution_count": 15,
   "id": "865e7855",
   "metadata": {
    "execution": {
     "iopub.execute_input": "2025-05-09T15:06:09.136291Z",
     "iopub.status.busy": "2025-05-09T15:06:09.135976Z",
     "iopub.status.idle": "2025-05-09T15:06:09.152850Z",
     "shell.execute_reply": "2025-05-09T15:06:09.151849Z"
    },
    "papermill": {
     "duration": 0.026975,
     "end_time": "2025-05-09T15:06:09.154478",
     "exception": false,
     "start_time": "2025-05-09T15:06:09.127503",
     "status": "completed"
    },
    "tags": []
   },
   "outputs": [
    {
     "data": {
      "text/html": [
       "<div>\n",
       "<style scoped>\n",
       "    .dataframe tbody tr th:only-of-type {\n",
       "        vertical-align: middle;\n",
       "    }\n",
       "\n",
       "    .dataframe tbody tr th {\n",
       "        vertical-align: top;\n",
       "    }\n",
       "\n",
       "    .dataframe thead th {\n",
       "        text-align: right;\n",
       "    }\n",
       "</style>\n",
       "<table border=\"1\" class=\"dataframe\">\n",
       "  <thead>\n",
       "    <tr style=\"text-align: right;\">\n",
       "      <th></th>\n",
       "      <th>Opponent_Angola</th>\n",
       "      <th>Opponent_Bangladesh</th>\n",
       "      <th>Opponent_Botswana</th>\n",
       "      <th>Opponent_Burkina Faso</th>\n",
       "      <th>Opponent_Burundi</th>\n",
       "      <th>Opponent_Cameroon</th>\n",
       "      <th>Opponent_Chad</th>\n",
       "      <th>Opponent_Comoros</th>\n",
       "      <th>Opponent_Cote d'Ivoire</th>\n",
       "      <th>Opponent_Egypt</th>\n",
       "      <th>...</th>\n",
       "      <th>Competition_AFCON 2021 Round of 16</th>\n",
       "      <th>Competition_AFCON 2025 Qualifier</th>\n",
       "      <th>Competition_AFCON Qualifier</th>\n",
       "      <th>Competition_AFCON Qualifier (Qualified)</th>\n",
       "      <th>Competition_CHAN Qualifier</th>\n",
       "      <th>Competition_COSAFA Cup</th>\n",
       "      <th>Competition_Four Nations Tournament</th>\n",
       "      <th>Competition_Friendly</th>\n",
       "      <th>Competition_Friendly (First International)</th>\n",
       "      <th>Competition_World Cup Qualifier</th>\n",
       "    </tr>\n",
       "  </thead>\n",
       "  <tbody>\n",
       "    <tr>\n",
       "      <th>72</th>\n",
       "      <td>0</td>\n",
       "      <td>0</td>\n",
       "      <td>0</td>\n",
       "      <td>0</td>\n",
       "      <td>0</td>\n",
       "      <td>0</td>\n",
       "      <td>0</td>\n",
       "      <td>0</td>\n",
       "      <td>0</td>\n",
       "      <td>0</td>\n",
       "      <td>...</td>\n",
       "      <td>0</td>\n",
       "      <td>0</td>\n",
       "      <td>0</td>\n",
       "      <td>0</td>\n",
       "      <td>0</td>\n",
       "      <td>0</td>\n",
       "      <td>0</td>\n",
       "      <td>0</td>\n",
       "      <td>0</td>\n",
       "      <td>1</td>\n",
       "    </tr>\n",
       "  </tbody>\n",
       "</table>\n",
       "<p>1 rows × 48 columns</p>\n",
       "</div>"
      ],
      "text/plain": [
       "    Opponent_Angola  Opponent_Bangladesh  Opponent_Botswana  \\\n",
       "72                0                    0                  0   \n",
       "\n",
       "    Opponent_Burkina Faso  Opponent_Burundi  Opponent_Cameroon  Opponent_Chad  \\\n",
       "72                      0                 0                  0              0   \n",
       "\n",
       "    Opponent_Comoros  Opponent_Cote d'Ivoire  Opponent_Egypt  ...  \\\n",
       "72                 0                       0               0  ...   \n",
       "\n",
       "    Competition_AFCON 2021 Round of 16  Competition_AFCON 2025 Qualifier  \\\n",
       "72                                   0                                 0   \n",
       "\n",
       "    Competition_AFCON Qualifier  Competition_AFCON Qualifier (Qualified)  \\\n",
       "72                            0                                        0   \n",
       "\n",
       "    Competition_CHAN Qualifier  Competition_COSAFA Cup  \\\n",
       "72                           0                       0   \n",
       "\n",
       "    Competition_Four Nations Tournament  Competition_Friendly  \\\n",
       "72                                    0                     0   \n",
       "\n",
       "    Competition_Friendly (First International)  \\\n",
       "72                                           0   \n",
       "\n",
       "    Competition_World Cup Qualifier  \n",
       "72                                1  \n",
       "\n",
       "[1 rows x 48 columns]"
      ]
     },
     "execution_count": 15,
     "metadata": {},
     "output_type": "execute_result"
    }
   ],
   "source": [
    "match_enc"
   ]
  },
  {
   "cell_type": "code",
   "execution_count": 16,
   "id": "c110688f",
   "metadata": {
    "execution": {
     "iopub.execute_input": "2025-05-09T15:06:09.174040Z",
     "iopub.status.busy": "2025-05-09T15:06:09.173673Z",
     "iopub.status.idle": "2025-05-09T15:06:09.194671Z",
     "shell.execute_reply": "2025-05-09T15:06:09.193394Z"
    },
    "papermill": {
     "duration": 0.032969,
     "end_time": "2025-05-09T15:06:09.196706",
     "exception": false,
     "start_time": "2025-05-09T15:06:09.163737",
     "status": "completed"
    },
    "tags": []
   },
   "outputs": [
    {
     "name": "stdout",
     "output_type": "stream",
     "text": [
      "Predicted outcome: 0\n"
     ]
    }
   ],
   "source": [
    "# Make a prediction with our RFC model\n",
    "latest_match_prediction = model_rf.predict(match_enc)\n",
    "print(\"Predicted outcome:\", latest_match_prediction[0]) "
   ]
  },
  {
   "cell_type": "markdown",
   "id": "5505a03c",
   "metadata": {
    "papermill": {
     "duration": 0.008262,
     "end_time": "2025-05-09T15:06:09.214187",
     "exception": false,
     "start_time": "2025-05-09T15:06:09.205925",
     "status": "completed"
    },
    "tags": []
   },
   "source": [
    "##### **model_rf.predict(match_enc)** returns a NumPy array of predictions.\n",
    "##### Since I am predicting one match, this array will have one element, [1] or [0].\n",
    "##### **latest_match_prediction[0]** extracts that single predicted value.\n",
    "\n",
    "# *Conclusion*\n",
    "#### Earlier in the code we used lambda function **data[\"Win\"] = data[\"Result\"].apply(lambda x : 1 if x.strip().lower() == \"win\" else 0)** \n",
    "#### That means a win is marked as \"1\" and loss as \"0\". \n",
    "#### Since the match ended up 0:1 and Malawi took a loss, the model predicted the outcome correct. "
   ]
  }
 ],
 "metadata": {
  "kaggle": {
   "accelerator": "none",
   "dataSources": [
    {
     "datasetId": 7078313,
     "sourceId": 11316252,
     "sourceType": "datasetVersion"
    }
   ],
   "dockerImageVersionId": 31012,
   "isGpuEnabled": false,
   "isInternetEnabled": true,
   "language": "python",
   "sourceType": "notebook"
  },
  "kernelspec": {
   "display_name": "Python 3",
   "language": "python",
   "name": "python3"
  },
  "language_info": {
   "codemirror_mode": {
    "name": "ipython",
    "version": 3
   },
   "file_extension": ".py",
   "mimetype": "text/x-python",
   "name": "python",
   "nbconvert_exporter": "python",
   "pygments_lexer": "ipython3",
   "version": "3.11.11"
  },
  "papermill": {
   "default_parameters": {},
   "duration": 17.390758,
   "end_time": "2025-05-09T15:06:09.945569",
   "environment_variables": {},
   "exception": null,
   "input_path": "__notebook__.ipynb",
   "output_path": "__notebook__.ipynb",
   "parameters": {},
   "start_time": "2025-05-09T15:05:52.554811",
   "version": "2.6.0"
  }
 },
 "nbformat": 4,
 "nbformat_minor": 5
}
